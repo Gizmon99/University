{
 "cells": [
  {
   "cell_type": "code",
   "execution_count": 1,
   "metadata": {},
   "outputs": [],
   "source": [
    "import re\n",
    "\n",
    "import numpy as np\n",
    "import pandas as pd\n",
    "\n",
    "from random import randint, seed\n",
    "from itertools import permutations\n",
    "from tqdm import tqdm"
   ]
  },
  {
   "cell_type": "code",
   "execution_count": 2,
   "metadata": {},
   "outputs": [],
   "source": [
    "data_path = '../data/modcloth_final_data.json'"
   ]
  },
  {
   "cell_type": "code",
   "execution_count": 185,
   "metadata": {},
   "outputs": [
    {
     "name": "stdout",
     "output_type": "stream",
     "text": [
      "Number of records = 82790\n",
      "----------------------------------------\n",
      "Attribute List:\n",
      "----------------------------------------\n",
      "Index(['item_id', 'waist', 'size', 'quality', 'cup_size', 'hips', 'bra_size',\n",
      "       'category', 'bust', 'height', 'user_name', 'length', 'fit', 'user_id',\n",
      "       'shoe_size', 'shoe_width', 'review_summary', 'review_text'],\n",
      "      dtype='object')\n"
     ]
    }
   ],
   "source": [
    "df_records = pd.read_json(data_path, lines=True)\n",
    "\n",
    "print('Number of records = {}'.format(len(df_records)))\n",
    "print('-'*40)\n",
    "print('Attribute List:')\n",
    "print('-'*40)\n",
    "df_records.columns = [x.replace(\" \",\"_\") for x in df_records.columns]\n",
    "print(df_records.columns)"
   ]
  },
  {
   "cell_type": "code",
   "execution_count": 4,
   "metadata": {},
   "outputs": [
    {
     "name": "stdout",
     "output_type": "stream",
     "text": [
      "(82790, 18)\n"
     ]
    },
    {
     "data": {
      "text/html": [
       "<div>\n",
       "<style scoped>\n",
       "    .dataframe tbody tr th:only-of-type {\n",
       "        vertical-align: middle;\n",
       "    }\n",
       "\n",
       "    .dataframe tbody tr th {\n",
       "        vertical-align: top;\n",
       "    }\n",
       "\n",
       "    .dataframe thead th {\n",
       "        text-align: right;\n",
       "    }\n",
       "</style>\n",
       "<table border=\"1\" class=\"dataframe\">\n",
       "  <thead>\n",
       "    <tr style=\"text-align: right;\">\n",
       "      <th></th>\n",
       "      <th>item_id</th>\n",
       "      <th>waist</th>\n",
       "      <th>size</th>\n",
       "      <th>quality</th>\n",
       "      <th>cup_size</th>\n",
       "      <th>hips</th>\n",
       "      <th>bra_size</th>\n",
       "      <th>category</th>\n",
       "      <th>bust</th>\n",
       "      <th>height</th>\n",
       "      <th>user_name</th>\n",
       "      <th>length</th>\n",
       "      <th>fit</th>\n",
       "      <th>user_id</th>\n",
       "      <th>shoe_size</th>\n",
       "      <th>shoe_width</th>\n",
       "      <th>review_summary</th>\n",
       "      <th>review_text</th>\n",
       "    </tr>\n",
       "  </thead>\n",
       "  <tbody>\n",
       "    <tr>\n",
       "      <th>0</th>\n",
       "      <td>123373</td>\n",
       "      <td>29.0</td>\n",
       "      <td>7</td>\n",
       "      <td>5.0</td>\n",
       "      <td>d</td>\n",
       "      <td>38.0</td>\n",
       "      <td>34.0</td>\n",
       "      <td>new</td>\n",
       "      <td>36</td>\n",
       "      <td>5ft 6in</td>\n",
       "      <td>Emily</td>\n",
       "      <td>just right</td>\n",
       "      <td>small</td>\n",
       "      <td>991571</td>\n",
       "      <td>NaN</td>\n",
       "      <td>NaN</td>\n",
       "      <td>NaN</td>\n",
       "      <td>NaN</td>\n",
       "    </tr>\n",
       "  </tbody>\n",
       "</table>\n",
       "</div>"
      ],
      "text/plain": [
       "   item_id  waist  size  quality cup_size  hips  bra_size category bust  \\\n",
       "0   123373   29.0     7      5.0        d  38.0      34.0      new   36   \n",
       "\n",
       "    height user_name      length    fit  user_id  shoe_size shoe_width  \\\n",
       "0  5ft 6in     Emily  just right  small   991571        NaN        NaN   \n",
       "\n",
       "  review_summary review_text  \n",
       "0            NaN         NaN  "
      ]
     },
     "execution_count": 4,
     "metadata": {},
     "output_type": "execute_result"
    }
   ],
   "source": [
    "print(df_records.shape)\n",
    "df_records.head(1)"
   ]
  },
  {
   "cell_type": "code",
   "execution_count": 156,
   "metadata": {},
   "outputs": [
    {
     "data": {
      "text/plain": [
       "item_id               0\n",
       "waist             79908\n",
       "size                  0\n",
       "quality              68\n",
       "cup_size           6255\n",
       "hips              26726\n",
       "bra_size           6018\n",
       "category              0\n",
       "bust              70936\n",
       "height             1107\n",
       "user_name             0\n",
       "length               35\n",
       "fit                   0\n",
       "user_id               0\n",
       "shoe_size         54875\n",
       "shoe_width        64183\n",
       "review_summary     6725\n",
       "review_text        6725\n",
       "dtype: int64"
      ]
     },
     "execution_count": 156,
     "metadata": {},
     "output_type": "execute_result"
    }
   ],
   "source": [
    "df_records.isna().sum()"
   ]
  },
  {
   "cell_type": "markdown",
   "metadata": {},
   "source": [
    "According to the paper,\n",
    "- fit : is the target variable\n",
    "- category, shoe_width, item_id, user_id : are treated as categorical and we learn embeddings for representing them\n",
    "- quality, size, shoe_size, waist, bust, cup_size, bra_size, hips, height : are treated as regular categorical/numerical variables\n",
    "- user_name, length, review_text and review_summary : are not considered"
   ]
  },
  {
   "cell_type": "markdown",
   "metadata": {},
   "source": [
    "### Attribute Types"
   ]
  },
  {
   "cell_type": "code",
   "execution_count": 186,
   "metadata": {},
   "outputs": [
    {
     "data": {
      "text/plain": [
       "item_id         int64\n",
       "waist         float64\n",
       "size            int64\n",
       "quality       float64\n",
       "cup_size       object\n",
       "hips          float64\n",
       "bra_size      float64\n",
       "category       object\n",
       "bust           object\n",
       "height         object\n",
       "fit            object\n",
       "user_id         int64\n",
       "shoe_size     float64\n",
       "shoe_width     object\n",
       "dtype: object"
      ]
     },
     "execution_count": 186,
     "metadata": {},
     "output_type": "execute_result"
    }
   ],
   "source": [
    "df_records.drop(['user_name', 'length', 'review_summary', 'review_text'], axis=1, inplace=True)\n",
    "df_records.dtypes"
   ]
  },
  {
   "cell_type": "markdown",
   "metadata": {},
   "source": [
    "On inspection, \n",
    "- `fit` and `category` have no NaNs\n",
    "- `bust` has too many NaNs, but we can try to calculate it\n",
    "- `cup_size`, `bra_size` and `height` have some missing values (NaNs) --> try data imputation \n",
    "- `waist` and `shoe_size` has a lot of missing values, but we can try to estimate them using conditional distribution\n",
    "- `shoe_width` is too generic and does the same job as `shoe_size`, therefore it's neglected"
   ]
  },
  {
   "cell_type": "code",
   "execution_count": 187,
   "metadata": {},
   "outputs": [],
   "source": [
    "df_records.drop(['shoe_width'], axis=1, inplace=True)"
   ]
  },
  {
   "cell_type": "markdown",
   "metadata": {},
   "source": [
    "### Missing Data Imputation\n",
    "Let's check the values"
   ]
  },
  {
   "cell_type": "code",
   "execution_count": 8,
   "metadata": {},
   "outputs": [
    {
     "data": {
      "text/html": [
       "<div>\n",
       "<style scoped>\n",
       "    .dataframe tbody tr th:only-of-type {\n",
       "        vertical-align: middle;\n",
       "    }\n",
       "\n",
       "    .dataframe tbody tr th {\n",
       "        vertical-align: top;\n",
       "    }\n",
       "\n",
       "    .dataframe thead th {\n",
       "        text-align: right;\n",
       "    }\n",
       "</style>\n",
       "<table border=\"1\" class=\"dataframe\">\n",
       "  <thead>\n",
       "    <tr style=\"text-align: right;\">\n",
       "      <th></th>\n",
       "      <th>item_id</th>\n",
       "      <th>waist</th>\n",
       "      <th>size</th>\n",
       "      <th>quality</th>\n",
       "      <th>cup_size</th>\n",
       "      <th>hips</th>\n",
       "      <th>bra_size</th>\n",
       "      <th>category</th>\n",
       "      <th>bust</th>\n",
       "      <th>height</th>\n",
       "      <th>fit</th>\n",
       "      <th>user_id</th>\n",
       "      <th>shoe_size</th>\n",
       "    </tr>\n",
       "  </thead>\n",
       "  <tbody>\n",
       "    <tr>\n",
       "      <th>0</th>\n",
       "      <td>123373</td>\n",
       "      <td>29.0</td>\n",
       "      <td>7</td>\n",
       "      <td>5.0</td>\n",
       "      <td>d</td>\n",
       "      <td>38.0</td>\n",
       "      <td>34.0</td>\n",
       "      <td>new</td>\n",
       "      <td>36</td>\n",
       "      <td>5ft 6in</td>\n",
       "      <td>small</td>\n",
       "      <td>991571</td>\n",
       "      <td>NaN</td>\n",
       "    </tr>\n",
       "    <tr>\n",
       "      <th>1</th>\n",
       "      <td>123373</td>\n",
       "      <td>31.0</td>\n",
       "      <td>13</td>\n",
       "      <td>3.0</td>\n",
       "      <td>b</td>\n",
       "      <td>30.0</td>\n",
       "      <td>36.0</td>\n",
       "      <td>new</td>\n",
       "      <td>NaN</td>\n",
       "      <td>5ft 2in</td>\n",
       "      <td>small</td>\n",
       "      <td>587883</td>\n",
       "      <td>NaN</td>\n",
       "    </tr>\n",
       "    <tr>\n",
       "      <th>2</th>\n",
       "      <td>123373</td>\n",
       "      <td>30.0</td>\n",
       "      <td>7</td>\n",
       "      <td>2.0</td>\n",
       "      <td>b</td>\n",
       "      <td>NaN</td>\n",
       "      <td>32.0</td>\n",
       "      <td>new</td>\n",
       "      <td>NaN</td>\n",
       "      <td>5ft 7in</td>\n",
       "      <td>small</td>\n",
       "      <td>395665</td>\n",
       "      <td>9.0</td>\n",
       "    </tr>\n",
       "    <tr>\n",
       "      <th>3</th>\n",
       "      <td>123373</td>\n",
       "      <td>NaN</td>\n",
       "      <td>21</td>\n",
       "      <td>5.0</td>\n",
       "      <td>dd/e</td>\n",
       "      <td>NaN</td>\n",
       "      <td>NaN</td>\n",
       "      <td>new</td>\n",
       "      <td>NaN</td>\n",
       "      <td>NaN</td>\n",
       "      <td>fit</td>\n",
       "      <td>875643</td>\n",
       "      <td>NaN</td>\n",
       "    </tr>\n",
       "    <tr>\n",
       "      <th>4</th>\n",
       "      <td>123373</td>\n",
       "      <td>NaN</td>\n",
       "      <td>18</td>\n",
       "      <td>5.0</td>\n",
       "      <td>b</td>\n",
       "      <td>NaN</td>\n",
       "      <td>36.0</td>\n",
       "      <td>new</td>\n",
       "      <td>NaN</td>\n",
       "      <td>5ft 2in</td>\n",
       "      <td>small</td>\n",
       "      <td>944840</td>\n",
       "      <td>NaN</td>\n",
       "    </tr>\n",
       "  </tbody>\n",
       "</table>\n",
       "</div>"
      ],
      "text/plain": [
       "   item_id  waist  size  quality cup_size  hips  bra_size category bust  \\\n",
       "0   123373   29.0     7      5.0        d  38.0      34.0      new   36   \n",
       "1   123373   31.0    13      3.0        b  30.0      36.0      new  NaN   \n",
       "2   123373   30.0     7      2.0        b   NaN      32.0      new  NaN   \n",
       "3   123373    NaN    21      5.0     dd/e   NaN       NaN      new  NaN   \n",
       "4   123373    NaN    18      5.0        b   NaN      36.0      new  NaN   \n",
       "\n",
       "    height    fit  user_id  shoe_size  \n",
       "0  5ft 6in  small   991571        NaN  \n",
       "1  5ft 2in  small   587883        NaN  \n",
       "2  5ft 7in  small   395665        9.0  \n",
       "3      NaN    fit   875643        NaN  \n",
       "4  5ft 2in  small   944840        NaN  "
      ]
     },
     "execution_count": 8,
     "metadata": {},
     "output_type": "execute_result"
    }
   ],
   "source": [
    "df_records.head()"
   ]
  },
  {
   "cell_type": "code",
   "execution_count": 9,
   "metadata": {},
   "outputs": [
    {
     "data": {
      "text/plain": [
       "item_id        int64\n",
       "waist        float64\n",
       "size           int64\n",
       "quality      float64\n",
       "cup_size      object\n",
       "hips         float64\n",
       "bra_size     float64\n",
       "category      object\n",
       "bust          object\n",
       "height        object\n",
       "fit           object\n",
       "user_id        int64\n",
       "shoe_size    float64\n",
       "dtype: object"
      ]
     },
     "execution_count": 9,
     "metadata": {},
     "output_type": "execute_result"
    }
   ],
   "source": [
    "df_records.dtypes"
   ]
  },
  {
   "cell_type": "markdown",
   "metadata": {},
   "source": [
    "### Distribution imputation"
   ]
  },
  {
   "cell_type": "code",
   "execution_count": 22,
   "metadata": {},
   "outputs": [
    {
     "data": {
      "text/plain": [
       "8.5     3982\n",
       "8.0     3832\n",
       "7.5     3704\n",
       "9.0     3599\n",
       "7.0     3193\n",
       "10.0    2419\n",
       "6.5     1829\n",
       "9.5     1806\n",
       "6.0     1338\n",
       "11.0     860\n",
       "5.5      589\n",
       "10.5     356\n",
       "5.0      316\n",
       "11.5      91\n",
       "38.0       1\n",
       "Name: shoe_size, dtype: int64"
      ]
     },
     "execution_count": 22,
     "metadata": {},
     "output_type": "execute_result"
    }
   ],
   "source": [
    "df_records['shoe_size'].value_counts()"
   ]
  },
  {
   "cell_type": "code",
   "execution_count": 188,
   "metadata": {},
   "outputs": [
    {
     "data": {
      "text/plain": [
       "8.5     3982\n",
       "8.0     3832\n",
       "7.5     3704\n",
       "9.0     3599\n",
       "7.0     3193\n",
       "10.0    2419\n",
       "6.5     1830\n",
       "9.5     1806\n",
       "6.0     1338\n",
       "11.0     860\n",
       "5.5      589\n",
       "10.5     356\n",
       "5.0      316\n",
       "11.5      91\n",
       "Name: shoe_size, dtype: int64"
      ]
     },
     "execution_count": 188,
     "metadata": {},
     "output_type": "execute_result"
    }
   ],
   "source": [
    "df_records['shoe_size'] = df_records['shoe_size'].replace(38.0, 6.5)\n",
    "df_records['shoe_size'].value_counts()"
   ]
  },
  {
   "cell_type": "code",
   "execution_count": 83,
   "metadata": {},
   "outputs": [
    {
     "data": {
      "text/plain": [
       "<AxesSubplot:>"
      ]
     },
     "execution_count": 83,
     "metadata": {},
     "output_type": "execute_result"
    },
    {
     "data": {
      "image/png": "[encoded data removed]",
      "text/plain": [
       "<Figure size 432x288 with 1 Axes>"
      ]
     },
     "metadata": {
      "needs_background": "light"
     },
     "output_type": "display_data"
    }
   ],
   "source": [
    "df_records[df_records['cup_size'].notna()]['cup_size'].hist()"
   ]
  },
  {
   "cell_type": "code",
   "execution_count": 114,
   "metadata": {},
   "outputs": [
    {
     "data": {
      "text/plain": [
       "<AxesSubplot:>"
      ]
     },
     "execution_count": 114,
     "metadata": {},
     "output_type": "execute_result"
    },
    {
     "data": {
      "image/png": "[encoded data removed]",
      "text/plain": [
       "<Figure size 432x288 with 1 Axes>"
      ]
     },
     "metadata": {
      "needs_background": "light"
     },
     "output_type": "display_data"
    }
   ],
   "source": [
    "df_records[df_records['cup_size'].notna()]['cup_size'].hist()"
   ]
  },
  {
   "cell_type": "code",
   "execution_count": 180,
   "metadata": {},
   "outputs": [
    {
     "data": {
      "text/plain": [
       "<AxesSubplot:>"
      ]
     },
     "execution_count": 180,
     "metadata": {},
     "output_type": "execute_result"
    },
    {
     "data": {
      "image/png": "[encoded data removed]",
      "text/plain": [
       "<Figure size 432x288 with 1 Axes>"
      ]
     },
     "metadata": {
      "needs_background": "light"
     },
     "output_type": "display_data"
    }
   ],
   "source": [
    "df_records[df_records['cup_size'].notna()]['cup_size'].hist()"
   ]
  },
  {
   "cell_type": "code",
   "execution_count": 84,
   "metadata": {},
   "outputs": [
    {
     "data": {
      "text/plain": [
       "<AxesSubplot:>"
      ]
     },
     "execution_count": 84,
     "metadata": {},
     "output_type": "execute_result"
    },
    {
     "data": {
      "image/png": "[encoded data removed]",
      "text/plain": [
       "<Figure size 432x288 with 1 Axes>"
      ]
     },
     "metadata": {
      "needs_background": "light"
     },
     "output_type": "display_data"
    }
   ],
   "source": [
    "df_records[df_records['hips'].notna()]['hips'].hist()"
   ]
  },
  {
   "cell_type": "code",
   "execution_count": 115,
   "metadata": {},
   "outputs": [
    {
     "data": {
      "text/plain": [
       "<AxesSubplot:>"
      ]
     },
     "execution_count": 115,
     "metadata": {},
     "output_type": "execute_result"
    },
    {
     "data": {
      "image/png": "[encoded data removed]",
      "text/plain": [
       "<Figure size 432x288 with 1 Axes>"
      ]
     },
     "metadata": {
      "needs_background": "light"
     },
     "output_type": "display_data"
    }
   ],
   "source": [
    "df_records[df_records['hips'].notna()]['hips'].hist()"
   ]
  },
  {
   "cell_type": "code",
   "execution_count": 181,
   "metadata": {},
   "outputs": [
    {
     "data": {
      "text/plain": [
       "<AxesSubplot:>"
      ]
     },
     "execution_count": 181,
     "metadata": {},
     "output_type": "execute_result"
    },
    {
     "data": {
      "image/png": "[encoded data removed]",
      "text/plain": [
       "<Figure size 432x288 with 1 Axes>"
      ]
     },
     "metadata": {
      "needs_background": "light"
     },
     "output_type": "display_data"
    }
   ],
   "source": [
    "df_records[df_records['hips'].notna()]['hips'].hist()"
   ]
  },
  {
   "cell_type": "code",
   "execution_count": 85,
   "metadata": {},
   "outputs": [
    {
     "data": {
      "text/plain": [
       "<AxesSubplot:>"
      ]
     },
     "execution_count": 85,
     "metadata": {},
     "output_type": "execute_result"
    },
    {
     "data": {
      "image/png": "[encoded data removed]",
      "text/plain": [
       "<Figure size 432x288 with 1 Axes>"
      ]
     },
     "metadata": {
      "needs_background": "light"
     },
     "output_type": "display_data"
    }
   ],
   "source": [
    "df_records[df_records['bra_size'].notna()]['bra_size'].hist()"
   ]
  },
  {
   "cell_type": "code",
   "execution_count": 116,
   "metadata": {},
   "outputs": [
    {
     "data": {
      "text/plain": [
       "<AxesSubplot:>"
      ]
     },
     "execution_count": 116,
     "metadata": {},
     "output_type": "execute_result"
    },
    {
     "data": {
      "image/png": "[encoded data removed]",
      "text/plain": [
       "<Figure size 432x288 with 1 Axes>"
      ]
     },
     "metadata": {
      "needs_background": "light"
     },
     "output_type": "display_data"
    }
   ],
   "source": [
    "df_records[df_records['bra_size'].notna()]['bra_size'].hist()"
   ]
  },
  {
   "cell_type": "code",
   "execution_count": 182,
   "metadata": {},
   "outputs": [
    {
     "data": {
      "text/plain": [
       "<AxesSubplot:>"
      ]
     },
     "execution_count": 182,
     "metadata": {},
     "output_type": "execute_result"
    },
    {
     "data": {
      "image/png": "[encoded data removed]",
      "text/plain": [
       "<Figure size 432x288 with 1 Axes>"
      ]
     },
     "metadata": {
      "needs_background": "light"
     },
     "output_type": "display_data"
    }
   ],
   "source": [
    "df_records[df_records['bra_size'].notna()]['bra_size'].hist()"
   ]
  },
  {
   "cell_type": "code",
   "execution_count": 86,
   "metadata": {},
   "outputs": [
    {
     "data": {
      "text/plain": [
       "<AxesSubplot:>"
      ]
     },
     "execution_count": 86,
     "metadata": {},
     "output_type": "execute_result"
    },
    {
     "data": {
      "image/png": "[encoded data removed]",
      "text/plain": [
       "<Figure size 432x288 with 1 Axes>"
      ]
     },
     "metadata": {
      "needs_background": "light"
     },
     "output_type": "display_data"
    }
   ],
   "source": [
    "df_records[df_records['quality'].notna()]['quality'].hist()"
   ]
  },
  {
   "cell_type": "code",
   "execution_count": 117,
   "metadata": {},
   "outputs": [
    {
     "data": {
      "text/plain": [
       "<AxesSubplot:>"
      ]
     },
     "execution_count": 117,
     "metadata": {},
     "output_type": "execute_result"
    },
    {
     "data": {
      "image/png": "[encoded data removed]",
      "text/plain": [
       "<Figure size 432x288 with 1 Axes>"
      ]
     },
     "metadata": {
      "needs_background": "light"
     },
     "output_type": "display_data"
    }
   ],
   "source": [
    "df_records[df_records['quality'].notna()]['quality'].hist()"
   ]
  },
  {
   "cell_type": "code",
   "execution_count": 183,
   "metadata": {},
   "outputs": [
    {
     "data": {
      "text/plain": [
       "<AxesSubplot:>"
      ]
     },
     "execution_count": 183,
     "metadata": {},
     "output_type": "execute_result"
    },
    {
     "data": {
      "image/png": "[encoded data removed]",
      "text/plain": [
       "<Figure size 432x288 with 1 Axes>"
      ]
     },
     "metadata": {
      "needs_background": "light"
     },
     "output_type": "display_data"
    }
   ],
   "source": [
    "df_records[df_records['quality'].notna()]['quality'].hist()"
   ]
  },
  {
   "cell_type": "code",
   "execution_count": 87,
   "metadata": {},
   "outputs": [
    {
     "data": {
      "text/plain": [
       "<AxesSubplot:>"
      ]
     },
     "execution_count": 87,
     "metadata": {},
     "output_type": "execute_result"
    },
    {
     "data": {
      "image/png": "[encoded data removed]",
      "text/plain": [
       "<Figure size 432x288 with 1 Axes>"
      ]
     },
     "metadata": {
      "needs_background": "light"
     },
     "output_type": "display_data"
    }
   ],
   "source": [
    "df_records[df_records['shoe_size'].notna()]['shoe_size'].hist()"
   ]
  },
  {
   "cell_type": "code",
   "execution_count": 118,
   "metadata": {},
   "outputs": [
    {
     "data": {
      "text/plain": [
       "<AxesSubplot:>"
      ]
     },
     "execution_count": 118,
     "metadata": {},
     "output_type": "execute_result"
    },
    {
     "data": {
      "image/png": "[encoded data removed]",
      "text/plain": [
       "<Figure size 432x288 with 1 Axes>"
      ]
     },
     "metadata": {
      "needs_background": "light"
     },
     "output_type": "display_data"
    }
   ],
   "source": [
    "df_records[df_records['shoe_size'].notna()]['shoe_size'].hist()"
   ]
  },
  {
   "cell_type": "code",
   "execution_count": 184,
   "metadata": {},
   "outputs": [
    {
     "data": {
      "text/plain": [
       "<AxesSubplot:>"
      ]
     },
     "execution_count": 184,
     "metadata": {},
     "output_type": "execute_result"
    },
    {
     "data": {
      "image/png": "[encoded data removed]",
      "text/plain": [
       "<Figure size 432x288 with 1 Axes>"
      ]
     },
     "metadata": {
      "needs_background": "light"
     },
     "output_type": "display_data"
    }
   ],
   "source": [
    "df_records[df_records['shoe_size'].notna()]['shoe_size'].hist()"
   ]
  },
  {
   "cell_type": "code",
   "execution_count": 97,
   "metadata": {},
   "outputs": [
    {
     "name": "stdout",
     "output_type": "stream",
     "text": [
      "AxesSubplot(0.125,0.125;0.775x0.755) cup_size\n",
      "AxesSubplot(0.125,0.125;0.775x0.755) hips\n",
      "AxesSubplot(0.125,0.125;0.775x0.755) bra_size\n",
      "AxesSubplot(0.125,0.125;0.775x0.755) quality\n",
      "AxesSubplot(0.125,0.125;0.775x0.755) shoe_size\n"
     ]
    },
    {
     "data": {
      "image/png": "[encoded data removed]",
      "text/plain": [
       "<Figure size 432x288 with 1 Axes>"
      ]
     },
     "metadata": {
      "needs_background": "light"
     },
     "output_type": "display_data"
    }
   ],
   "source": [
    "normal_columns = ['cup_size', 'hips', 'bra_size', 'quality', 'shoe_size']\n",
    "for col in normal_columns:\n",
    "    print(df_records[df_records[col].notna()][col].hist(), col)"
   ]
  },
  {
   "cell_type": "code",
   "execution_count": 189,
   "metadata": {},
   "outputs": [],
   "source": [
    "def flatten(t):\n",
    "    return [item for sublist in t for item in sublist]"
   ]
  },
  {
   "cell_type": "code",
   "execution_count": 190,
   "metadata": {},
   "outputs": [],
   "source": [
    "from scipy.special import rel_entr\n",
    "\n",
    "def kullback_leibler(compariser, base):\n",
    "    return abs(sum(rel_entr(compariser, base)))"
   ]
  },
  {
   "cell_type": "code",
   "execution_count": 191,
   "metadata": {},
   "outputs": [],
   "source": [
    "def distribution_based_creation(data, quantity, keys):\n",
    "    base = data.copy()\n",
    "    chosen = []\n",
    "    for number in quantity:\n",
    "        min = 1000000000\n",
    "        choice = list(data.keys())[0]\n",
    "        for key in keys:\n",
    "            data[key] += number\n",
    "            stats = kullback_leibler(data, base)\n",
    "            data[key] -= number\n",
    "            # print(stats)\n",
    "            if min > stats:\n",
    "                min = stats\n",
    "                choice = key\n",
    "        chosen.append(choice)\n",
    "        data[choice] += number\n",
    "    print(min)\n",
    "    return chosen"
   ]
  },
  {
   "cell_type": "code",
   "execution_count": 192,
   "metadata": {},
   "outputs": [
    {
     "name": "stdout",
     "output_type": "stream",
     "text": [
      "6503.91146134716\n",
      "32272.6523991484\n",
      "6247.937390626686\n",
      "68.02795913832094\n",
      "90004.57758514593\n"
     ]
    }
   ],
   "source": [
    "df_records['cup_size'] = df_records['cup_size'].replace('dd/e','e').replace('ddd/f','f').replace('dddd/g','g')\n",
    "# encoder = {\"aa\":0, \"a\":2, \"b\":4, \"c\":6, \"d\":8, \"e\":10, \"f\":12, \"g\":14, \"h\":16, \"i\":18, \"j\":20, \"k\":22}\n",
    "# decoder = {0:\"aa\", 2:\"a\", 4:\"b\", 6:\"c\", 8:\"d\", 10:\"e\", 12:\"f\", 14:\"g\", 16:\"h\", 18:\"i\", 20:\"j\", 22:\"k\"}\n",
    "\n",
    "normal_columns = ['cup_size', 'hips', 'bra_size', 'quality', 'shoe_size']\n",
    "for col in normal_columns:\n",
    "    test_subjects = df_records[df_records[col].isnull()]['user_id'].value_counts()\n",
    "    natives = df_records[df_records[col].notnull()][['user_id',col]]\n",
    "    data = df_records[df_records[col].notnull()][col].value_counts()\n",
    "    uniq = df_records[df_records[col].notnull()][col].unique()\n",
    "\n",
    "    # kl = distribution_based_creation(data, [test_subjects[i] for i in test_subjects[test_subjects > 1].keys()], data.keys())\n",
    "    kl = distribution_based_creation(data, [test_subjects[i] for i in test_subjects.keys()], data.keys())\n",
    "\n",
    "    dicto = {idx: kl[i] for i, idx in enumerate(test_subjects.keys())}\n",
    "    # dicto = {idx: kl[i] for i, idx in enumerate(test_subjects[test_subjects <= 1].keys())}\n",
    "    # dicto.update({idx: uniq[i%len(uniq)] for i, idx in enumerate(test_subjects[test_subjects <= 1].keys())})\n",
    "    dicto.update({natives['user_id'][i]: natives[col][i] for i in natives.index})\n",
    "    change = [dicto[idx] for idx in df_records['user_id']]\n",
    "    df_records[col] = change"
   ]
  },
  {
   "cell_type": "markdown",
   "metadata": {},
   "source": [
    "### Median imputation"
   ]
  },
  {
   "cell_type": "code",
   "execution_count": 193,
   "metadata": {},
   "outputs": [],
   "source": [
    "from sklearn.impute import SimpleImputer\n",
    "frequent_imputer = SimpleImputer(missing_values=np.nan, strategy='most_frequent')"
   ]
  },
  {
   "cell_type": "code",
   "execution_count": 194,
   "metadata": {},
   "outputs": [
    {
     "data": {
      "text/plain": [
       "item_id          0\n",
       "waist        79908\n",
       "size             0\n",
       "quality          0\n",
       "cup_size         0\n",
       "hips             0\n",
       "bra_size         0\n",
       "category         0\n",
       "bust         70936\n",
       "height           0\n",
       "fit              0\n",
       "user_id          0\n",
       "shoe_size        0\n",
       "dtype: int64"
      ]
     },
     "execution_count": 194,
     "metadata": {},
     "output_type": "execute_result"
    }
   ],
   "source": [
    "string_columns = ['height']\n",
    "\n",
    "for col in string_columns:\n",
    "    df_records[col] = frequent_imputer.fit_transform(np.array(df_records[col]).reshape(-1,1)).squeeze()\n",
    "\n",
    "df_records.isna().sum()"
   ]
  },
  {
   "cell_type": "code",
   "execution_count": 195,
   "metadata": {},
   "outputs": [
    {
     "data": {
      "text/html": [
       "<div>\n",
       "<style scoped>\n",
       "    .dataframe tbody tr th:only-of-type {\n",
       "        vertical-align: middle;\n",
       "    }\n",
       "\n",
       "    .dataframe tbody tr th {\n",
       "        vertical-align: top;\n",
       "    }\n",
       "\n",
       "    .dataframe thead th {\n",
       "        text-align: right;\n",
       "    }\n",
       "</style>\n",
       "<table border=\"1\" class=\"dataframe\">\n",
       "  <thead>\n",
       "    <tr style=\"text-align: right;\">\n",
       "      <th></th>\n",
       "      <th>item_id</th>\n",
       "      <th>waist</th>\n",
       "      <th>size</th>\n",
       "      <th>quality</th>\n",
       "      <th>cup_size</th>\n",
       "      <th>hips</th>\n",
       "      <th>bra_size</th>\n",
       "      <th>category</th>\n",
       "      <th>bust</th>\n",
       "      <th>height</th>\n",
       "      <th>fit</th>\n",
       "      <th>user_id</th>\n",
       "      <th>shoe_size</th>\n",
       "    </tr>\n",
       "  </thead>\n",
       "  <tbody>\n",
       "    <tr>\n",
       "      <th>0</th>\n",
       "      <td>123373</td>\n",
       "      <td>29.0</td>\n",
       "      <td>7</td>\n",
       "      <td>4.0</td>\n",
       "      <td>d</td>\n",
       "      <td>38.0</td>\n",
       "      <td>34.0</td>\n",
       "      <td>new</td>\n",
       "      <td>36</td>\n",
       "      <td>5ft 6in</td>\n",
       "      <td>small</td>\n",
       "      <td>991571</td>\n",
       "      <td>8.0</td>\n",
       "    </tr>\n",
       "    <tr>\n",
       "      <th>1</th>\n",
       "      <td>123373</td>\n",
       "      <td>31.0</td>\n",
       "      <td>13</td>\n",
       "      <td>3.0</td>\n",
       "      <td>b</td>\n",
       "      <td>30.0</td>\n",
       "      <td>36.0</td>\n",
       "      <td>new</td>\n",
       "      <td>NaN</td>\n",
       "      <td>5ft 2in</td>\n",
       "      <td>small</td>\n",
       "      <td>587883</td>\n",
       "      <td>7.0</td>\n",
       "    </tr>\n",
       "    <tr>\n",
       "      <th>2</th>\n",
       "      <td>123373</td>\n",
       "      <td>30.0</td>\n",
       "      <td>7</td>\n",
       "      <td>2.0</td>\n",
       "      <td>b</td>\n",
       "      <td>37.0</td>\n",
       "      <td>32.0</td>\n",
       "      <td>new</td>\n",
       "      <td>NaN</td>\n",
       "      <td>5ft 7in</td>\n",
       "      <td>small</td>\n",
       "      <td>395665</td>\n",
       "      <td>9.0</td>\n",
       "    </tr>\n",
       "    <tr>\n",
       "      <th>3</th>\n",
       "      <td>123373</td>\n",
       "      <td>NaN</td>\n",
       "      <td>21</td>\n",
       "      <td>5.0</td>\n",
       "      <td>e</td>\n",
       "      <td>50.0</td>\n",
       "      <td>36.0</td>\n",
       "      <td>new</td>\n",
       "      <td>NaN</td>\n",
       "      <td>5ft 4in</td>\n",
       "      <td>fit</td>\n",
       "      <td>875643</td>\n",
       "      <td>9.0</td>\n",
       "    </tr>\n",
       "    <tr>\n",
       "      <th>4</th>\n",
       "      <td>123373</td>\n",
       "      <td>NaN</td>\n",
       "      <td>18</td>\n",
       "      <td>4.0</td>\n",
       "      <td>b</td>\n",
       "      <td>34.0</td>\n",
       "      <td>36.0</td>\n",
       "      <td>new</td>\n",
       "      <td>NaN</td>\n",
       "      <td>5ft 2in</td>\n",
       "      <td>small</td>\n",
       "      <td>944840</td>\n",
       "      <td>8.5</td>\n",
       "    </tr>\n",
       "  </tbody>\n",
       "</table>\n",
       "</div>"
      ],
      "text/plain": [
       "   item_id  waist  size  quality cup_size  hips  bra_size category bust  \\\n",
       "0   123373   29.0     7      4.0        d  38.0      34.0      new   36   \n",
       "1   123373   31.0    13      3.0        b  30.0      36.0      new  NaN   \n",
       "2   123373   30.0     7      2.0        b  37.0      32.0      new  NaN   \n",
       "3   123373    NaN    21      5.0        e  50.0      36.0      new  NaN   \n",
       "4   123373    NaN    18      4.0        b  34.0      36.0      new  NaN   \n",
       "\n",
       "    height    fit  user_id  shoe_size  \n",
       "0  5ft 6in  small   991571        8.0  \n",
       "1  5ft 2in  small   587883        7.0  \n",
       "2  5ft 7in  small   395665        9.0  \n",
       "3  5ft 4in    fit   875643        9.0  \n",
       "4  5ft 2in  small   944840        8.5  "
      ]
     },
     "execution_count": 195,
     "metadata": {},
     "output_type": "execute_result"
    }
   ],
   "source": [
    "df_records.head()"
   ]
  },
  {
   "cell_type": "markdown",
   "metadata": {},
   "source": [
    "### Calculating bust\n",
    "Looks like bust measurements are being calculated in the US style, to find correlation I've used this pick:\n",
    "\n",
    "![alt text](table.png \"Title\")"
   ]
  },
  {
   "cell_type": "code",
   "execution_count": 12,
   "metadata": {},
   "outputs": [
    {
     "data": {
      "text/plain": [
       "array([34., 36., 32., 46., 38., 42., 40., 44., 30., 48., 28.])"
      ]
     },
     "execution_count": 12,
     "metadata": {},
     "output_type": "execute_result"
    }
   ],
   "source": [
    "df_records[\"bra_size\"].unique()"
   ]
  },
  {
   "cell_type": "code",
   "execution_count": 13,
   "metadata": {},
   "outputs": [
    {
     "data": {
      "text/plain": [
       "array(['d', 'b', 'e', 'c', 'f', 'g', 'i', 'a', 'k', 'h', 'aa', 'j'],\n",
       "      dtype=object)"
      ]
     },
     "execution_count": 13,
     "metadata": {},
     "output_type": "execute_result"
    }
   ],
   "source": [
    "df_records[\"cup_size\"].unique()"
   ]
  },
  {
   "cell_type": "code",
   "execution_count": 196,
   "metadata": {},
   "outputs": [],
   "source": [
    "def bust_calculation(cup_size, bra_size):\n",
    "    dicter = {\"aa\":0, \"a\":2, \"b\":4, \"c\":6, \"d\":8, \"e\":10, \"f\":12, \"g\":14, \"h\":16, \"i\":18, \"j\":20, \"k\":22}\n",
    "    return [71 + (int(bra_size[i]) - 28)*2.5 + dicter[cup_size[i]] for i in range(len(cup_size))]"
   ]
  },
  {
   "cell_type": "code",
   "execution_count": 197,
   "metadata": {},
   "outputs": [],
   "source": [
    "df_records['bust'] = bust_calculation(df_records['cup_size'], df_records['bra_size'])\n",
    "\n",
    "seed(0)\n",
    "# natural_diff = [round(uniform(-0.99, 0.99), 2) for i in range(len(df_records))]\n",
    "diff = {idx: randint(-1,1)/2 for idx in df_records['user_id'].unique()}\n",
    "natural_diff = [diff[idx] for idx in df_records['user_id']]\n",
    "df_records['bust'] = df_records['bust'] + natural_diff"
   ]
  },
  {
   "cell_type": "code",
   "execution_count": 198,
   "metadata": {},
   "outputs": [
    {
     "data": {
      "text/plain": [
       "item_id          0\n",
       "waist        79908\n",
       "size             0\n",
       "quality          0\n",
       "cup_size         0\n",
       "hips             0\n",
       "bra_size         0\n",
       "category         0\n",
       "bust             0\n",
       "height           0\n",
       "fit              0\n",
       "user_id          0\n",
       "shoe_size        0\n",
       "dtype: int64"
      ]
     },
     "execution_count": 198,
     "metadata": {},
     "output_type": "execute_result"
    }
   ],
   "source": [
    "df_records.isna().sum()"
   ]
  },
  {
   "cell_type": "code",
   "execution_count": 199,
   "metadata": {},
   "outputs": [
    {
     "data": {
      "text/html": [
       "<div>\n",
       "<style scoped>\n",
       "    .dataframe tbody tr th:only-of-type {\n",
       "        vertical-align: middle;\n",
       "    }\n",
       "\n",
       "    .dataframe tbody tr th {\n",
       "        vertical-align: top;\n",
       "    }\n",
       "\n",
       "    .dataframe thead th {\n",
       "        text-align: right;\n",
       "    }\n",
       "</style>\n",
       "<table border=\"1\" class=\"dataframe\">\n",
       "  <thead>\n",
       "    <tr style=\"text-align: right;\">\n",
       "      <th></th>\n",
       "      <th>item_id</th>\n",
       "      <th>waist</th>\n",
       "      <th>size</th>\n",
       "      <th>quality</th>\n",
       "      <th>cup_size</th>\n",
       "      <th>hips</th>\n",
       "      <th>bra_size</th>\n",
       "      <th>category</th>\n",
       "      <th>bust</th>\n",
       "      <th>height</th>\n",
       "      <th>fit</th>\n",
       "      <th>user_id</th>\n",
       "      <th>shoe_size</th>\n",
       "    </tr>\n",
       "  </thead>\n",
       "  <tbody>\n",
       "    <tr>\n",
       "      <th>0</th>\n",
       "      <td>123373</td>\n",
       "      <td>29.0</td>\n",
       "      <td>7</td>\n",
       "      <td>4.0</td>\n",
       "      <td>d</td>\n",
       "      <td>38.0</td>\n",
       "      <td>34.0</td>\n",
       "      <td>new</td>\n",
       "      <td>94.0</td>\n",
       "      <td>5ft 6in</td>\n",
       "      <td>small</td>\n",
       "      <td>991571</td>\n",
       "      <td>8.0</td>\n",
       "    </tr>\n",
       "    <tr>\n",
       "      <th>1</th>\n",
       "      <td>123373</td>\n",
       "      <td>31.0</td>\n",
       "      <td>13</td>\n",
       "      <td>3.0</td>\n",
       "      <td>b</td>\n",
       "      <td>30.0</td>\n",
       "      <td>36.0</td>\n",
       "      <td>new</td>\n",
       "      <td>95.0</td>\n",
       "      <td>5ft 2in</td>\n",
       "      <td>small</td>\n",
       "      <td>587883</td>\n",
       "      <td>7.0</td>\n",
       "    </tr>\n",
       "    <tr>\n",
       "      <th>2</th>\n",
       "      <td>123373</td>\n",
       "      <td>30.0</td>\n",
       "      <td>7</td>\n",
       "      <td>2.0</td>\n",
       "      <td>b</td>\n",
       "      <td>37.0</td>\n",
       "      <td>32.0</td>\n",
       "      <td>new</td>\n",
       "      <td>84.5</td>\n",
       "      <td>5ft 7in</td>\n",
       "      <td>small</td>\n",
       "      <td>395665</td>\n",
       "      <td>9.0</td>\n",
       "    </tr>\n",
       "    <tr>\n",
       "      <th>3</th>\n",
       "      <td>123373</td>\n",
       "      <td>NaN</td>\n",
       "      <td>21</td>\n",
       "      <td>5.0</td>\n",
       "      <td>e</td>\n",
       "      <td>50.0</td>\n",
       "      <td>36.0</td>\n",
       "      <td>new</td>\n",
       "      <td>101.0</td>\n",
       "      <td>5ft 4in</td>\n",
       "      <td>fit</td>\n",
       "      <td>875643</td>\n",
       "      <td>9.0</td>\n",
       "    </tr>\n",
       "    <tr>\n",
       "      <th>4</th>\n",
       "      <td>123373</td>\n",
       "      <td>NaN</td>\n",
       "      <td>18</td>\n",
       "      <td>4.0</td>\n",
       "      <td>b</td>\n",
       "      <td>34.0</td>\n",
       "      <td>36.0</td>\n",
       "      <td>new</td>\n",
       "      <td>95.5</td>\n",
       "      <td>5ft 2in</td>\n",
       "      <td>small</td>\n",
       "      <td>944840</td>\n",
       "      <td>8.5</td>\n",
       "    </tr>\n",
       "  </tbody>\n",
       "</table>\n",
       "</div>"
      ],
      "text/plain": [
       "   item_id  waist  size  quality cup_size  hips  bra_size category   bust  \\\n",
       "0   123373   29.0     7      4.0        d  38.0      34.0      new   94.0   \n",
       "1   123373   31.0    13      3.0        b  30.0      36.0      new   95.0   \n",
       "2   123373   30.0     7      2.0        b  37.0      32.0      new   84.5   \n",
       "3   123373    NaN    21      5.0        e  50.0      36.0      new  101.0   \n",
       "4   123373    NaN    18      4.0        b  34.0      36.0      new   95.5   \n",
       "\n",
       "    height    fit  user_id  shoe_size  \n",
       "0  5ft 6in  small   991571        8.0  \n",
       "1  5ft 2in  small   587883        7.0  \n",
       "2  5ft 7in  small   395665        9.0  \n",
       "3  5ft 4in    fit   875643        9.0  \n",
       "4  5ft 2in  small   944840        8.5  "
      ]
     },
     "execution_count": 199,
     "metadata": {},
     "output_type": "execute_result"
    }
   ],
   "source": [
    "df_records.head()"
   ]
  },
  {
   "cell_type": "markdown",
   "metadata": {},
   "source": [
    "### Converting height to numeric column"
   ]
  },
  {
   "cell_type": "code",
   "execution_count": 200,
   "metadata": {},
   "outputs": [],
   "source": [
    "def get_float_height(height):\n",
    "    \"\"\"\n",
    "    Convert string height to float (metres)\n",
    "    \"\"\"\n",
    "    \n",
    "    output = height.split(' ')\n",
    "    if len(output) == 2:\n",
    "        feet, inches = output[0], output[1]\n",
    "    else:\n",
    "        feet, inches = output[0], \"0in\"\n",
    "    feet = float(re.findall('\\d+', feet)[0])\n",
    "    inches = float(re.findall('\\d+', inches)[0])\n",
    "    \n",
    "    metres = (feet * 0.3048) + (inches * 0.0254)\n",
    "    \n",
    "    return metres"
   ]
  },
  {
   "cell_type": "code",
   "execution_count": 201,
   "metadata": {},
   "outputs": [],
   "source": [
    "df_records['height'] = df_records['height'].apply(get_float_height)"
   ]
  },
  {
   "cell_type": "markdown",
   "metadata": {},
   "source": [
    "### Calculating waist"
   ]
  },
  {
   "cell_type": "code",
   "execution_count": 127,
   "metadata": {},
   "outputs": [
    {
     "data": {
      "text/plain": [
       "<AxesSubplot:>"
      ]
     },
     "execution_count": 127,
     "metadata": {},
     "output_type": "execute_result"
    },
    {
     "data": {
      "image/png": "[encoded data removed]",
      "text/plain": [
       "<Figure size 432x288 with 1 Axes>"
      ]
     },
     "metadata": {
      "needs_background": "light"
     },
     "output_type": "display_data"
    }
   ],
   "source": [
    "df_records[df_records['waist'].notna()]['waist'].hist()"
   ]
  },
  {
   "cell_type": "code",
   "execution_count": 148,
   "metadata": {},
   "outputs": [
    {
     "data": {
      "text/plain": [
       "<AxesSubplot:>"
      ]
     },
     "execution_count": 148,
     "metadata": {},
     "output_type": "execute_result"
    },
    {
     "data": {
      "image/png": "[encoded data removed]",
      "text/plain": [
       "<Figure size 432x288 with 1 Axes>"
      ]
     },
     "metadata": {
      "needs_background": "light"
     },
     "output_type": "display_data"
    }
   ],
   "source": [
    "df_records[df_records['waist'].notna()]['waist'].hist()"
   ]
  },
  {
   "cell_type": "code",
   "execution_count": 179,
   "metadata": {},
   "outputs": [
    {
     "data": {
      "text/plain": [
       "<AxesSubplot:>"
      ]
     },
     "execution_count": 179,
     "metadata": {},
     "output_type": "execute_result"
    },
    {
     "data": {
      "image/png": "[encoded data removed]",
      "text/plain": [
       "<Figure size 432x288 with 1 Axes>"
      ]
     },
     "metadata": {
      "needs_background": "light"
     },
     "output_type": "display_data"
    }
   ],
   "source": [
    "df_records[df_records['waist'].notna()]['waist'].hist()"
   ]
  },
  {
   "cell_type": "code",
   "execution_count": 202,
   "metadata": {},
   "outputs": [],
   "source": [
    "def conditional_distribution_based_creation(data, quantity, condition):\n",
    "    base = data.copy()\n",
    "    chosen = []\n",
    "    for c, number in enumerate(quantity):\n",
    "        min = 1000000000\n",
    "        choice = list(data[condition[c]].keys())[0]\n",
    "        for key in data[condition[c]].keys():\n",
    "            data[condition[c]][key] += number\n",
    "            stats = kullback_leibler(data[condition[c]], base[condition[c]])\n",
    "            data[condition[c]][key] -= number\n",
    "            if min > stats:\n",
    "                min = stats\n",
    "                choice = key\n",
    "        chosen.append(choice)\n",
    "        data[condition[c]][choice] += number\n",
    "    print(min)\n",
    "    return chosen"
   ]
  },
  {
   "cell_type": "code",
   "execution_count": 204,
   "metadata": {},
   "outputs": [
    {
     "name": "stdout",
     "output_type": "stream",
     "text": [
      "0.0\n"
     ]
    }
   ],
   "source": [
    "dependancy_sets = {hip: df_records[df_records['hips'] == hip]['waist'].dropna().value_counts() for hip in df_records['hips'].unique()}\n",
    "# for hip in df_records['hips'].unique():\n",
    "#     dependancy_sets[hip] = df_records[df_records['hips'] == hip]['waist'].dropna().value_counts()\n",
    "\n",
    "normal_columns = ['waist']\n",
    "for col in normal_columns:\n",
    "    test_subjects = df_records[df_records[col].isnull()]['user_id'].value_counts()\n",
    "    natives = df_records[df_records[col].notnull()][['user_id',col]]\n",
    "    uniq = df_records[df_records[col].notnull()][col].unique()\n",
    "    \n",
    "    # dist = conditional_distribution_based_creation(dependancy_sets, [test_subjects[i] for i in test_subjects.keys()], [df_records[df_records['user_id']==idx]['hips'].unique()[0] for idx in test_subjects.keys()])\n",
    "    dist = conditional_distribution_based_creation(dependancy_sets, [test_subjects[i] for i in test_subjects[test_subjects > 1].keys()], [df_records[df_records['user_id']==idx]['hips'].unique()[0] for idx in test_subjects[test_subjects > 1].keys()])\n",
    "\n",
    "    # dicto = {idx: dist[i] for i, idx in enumerate(test_subjects.keys())}\n",
    "    dicto = {idx: dist[i] for i, idx in enumerate(test_subjects[test_subjects > 1].keys())}\n",
    "    dicto.update({idx: uniq[i%len(uniq)] for i, idx in enumerate(test_subjects[test_subjects <= 1].keys())})\n",
    "    dicto.update({natives['user_id'][i]: natives[col][i] for i in natives.index})\n",
    "    change = [dicto[idx] for idx in df_records['user_id']]\n",
    "    df_records[col] = change"
   ]
  },
  {
   "cell_type": "markdown",
   "metadata": {},
   "source": [
    "### Normalize Numeric Features"
   ]
  },
  {
   "cell_type": "code",
   "execution_count": 205,
   "metadata": {},
   "outputs": [
    {
     "data": {
      "text/html": [
       "<div>\n",
       "<style scoped>\n",
       "    .dataframe tbody tr th:only-of-type {\n",
       "        vertical-align: middle;\n",
       "    }\n",
       "\n",
       "    .dataframe tbody tr th {\n",
       "        vertical-align: top;\n",
       "    }\n",
       "\n",
       "    .dataframe thead th {\n",
       "        text-align: right;\n",
       "    }\n",
       "</style>\n",
       "<table border=\"1\" class=\"dataframe\">\n",
       "  <thead>\n",
       "    <tr style=\"text-align: right;\">\n",
       "      <th></th>\n",
       "      <th>waist</th>\n",
       "      <th>size</th>\n",
       "      <th>quality</th>\n",
       "      <th>hips</th>\n",
       "      <th>bra_size</th>\n",
       "      <th>height</th>\n",
       "      <th>bust</th>\n",
       "      <th>shoe_size</th>\n",
       "    </tr>\n",
       "  </thead>\n",
       "  <tbody>\n",
       "    <tr>\n",
       "      <th>0</th>\n",
       "      <td>-0.514924</td>\n",
       "      <td>-0.684438</td>\n",
       "      <td>0.034406</td>\n",
       "      <td>-0.404745</td>\n",
       "      <td>-0.611557</td>\n",
       "      <td>0.306343</td>\n",
       "      <td>-0.456166</td>\n",
       "      <td>-0.109296</td>\n",
       "    </tr>\n",
       "    <tr>\n",
       "      <th>1</th>\n",
       "      <td>-0.235410</td>\n",
       "      <td>0.040909</td>\n",
       "      <td>-0.983637</td>\n",
       "      <td>-1.777621</td>\n",
       "      <td>0.008607</td>\n",
       "      <td>-1.103900</td>\n",
       "      <td>-0.349617</td>\n",
       "      <td>-0.864510</td>\n",
       "    </tr>\n",
       "    <tr>\n",
       "      <th>2</th>\n",
       "      <td>-0.375167</td>\n",
       "      <td>-0.684438</td>\n",
       "      <td>-2.001679</td>\n",
       "      <td>-0.576354</td>\n",
       "      <td>-1.231720</td>\n",
       "      <td>0.658904</td>\n",
       "      <td>-1.468378</td>\n",
       "      <td>0.645919</td>\n",
       "    </tr>\n",
       "    <tr>\n",
       "      <th>3</th>\n",
       "      <td>1.022405</td>\n",
       "      <td>1.008039</td>\n",
       "      <td>1.052449</td>\n",
       "      <td>1.654570</td>\n",
       "      <td>0.008607</td>\n",
       "      <td>-0.398778</td>\n",
       "      <td>0.289674</td>\n",
       "      <td>0.645919</td>\n",
       "    </tr>\n",
       "    <tr>\n",
       "      <th>4</th>\n",
       "      <td>-0.794438</td>\n",
       "      <td>0.645365</td>\n",
       "      <td>0.034406</td>\n",
       "      <td>-1.091183</td>\n",
       "      <td>0.008607</td>\n",
       "      <td>-1.103900</td>\n",
       "      <td>-0.296343</td>\n",
       "      <td>0.268311</td>\n",
       "    </tr>\n",
       "  </tbody>\n",
       "</table>\n",
       "</div>"
      ],
      "text/plain": [
       "      waist      size   quality      hips  bra_size    height      bust  \\\n",
       "0 -0.514924 -0.684438  0.034406 -0.404745 -0.611557  0.306343 -0.456166   \n",
       "1 -0.235410  0.040909 -0.983637 -1.777621  0.008607 -1.103900 -0.349617   \n",
       "2 -0.375167 -0.684438 -2.001679 -0.576354 -1.231720  0.658904 -1.468378   \n",
       "3  1.022405  1.008039  1.052449  1.654570  0.008607 -0.398778  0.289674   \n",
       "4 -0.794438  0.645365  0.034406 -1.091183  0.008607 -1.103900 -0.296343   \n",
       "\n",
       "   shoe_size  \n",
       "0  -0.109296  \n",
       "1  -0.864510  \n",
       "2   0.645919  \n",
       "3   0.645919  \n",
       "4   0.268311  "
      ]
     },
     "execution_count": 205,
     "metadata": {},
     "output_type": "execute_result"
    }
   ],
   "source": [
    "from sklearn.preprocessing import StandardScaler\n",
    "\n",
    "numeric_columns = ['waist', 'size', 'quality', 'hips', 'bra_size', 'height', 'bust', 'shoe_size']\n",
    "scaler = StandardScaler()\n",
    "df_records_numeric = pd.DataFrame(scaler.fit_transform(df_records.loc[:, numeric_columns]), \n",
    "                                  columns=numeric_columns)\n",
    "df_records_numeric.head()"
   ]
  },
  {
   "cell_type": "markdown",
   "metadata": {},
   "source": [
    "### Convert Categorical Features into Labels"
   ]
  },
  {
   "cell_type": "code",
   "execution_count": 206,
   "metadata": {},
   "outputs": [
    {
     "data": {
      "text/html": [
       "<div>\n",
       "<style scoped>\n",
       "    .dataframe tbody tr th:only-of-type {\n",
       "        vertical-align: middle;\n",
       "    }\n",
       "\n",
       "    .dataframe tbody tr th {\n",
       "        vertical-align: top;\n",
       "    }\n",
       "\n",
       "    .dataframe thead th {\n",
       "        text-align: right;\n",
       "    }\n",
       "</style>\n",
       "<table border=\"1\" class=\"dataframe\">\n",
       "  <thead>\n",
       "    <tr style=\"text-align: right;\">\n",
       "      <th></th>\n",
       "      <th>item_id</th>\n",
       "      <th>category</th>\n",
       "      <th>cup_size</th>\n",
       "      <th>user_id</th>\n",
       "      <th>fit</th>\n",
       "    </tr>\n",
       "  </thead>\n",
       "  <tbody>\n",
       "    <tr>\n",
       "      <th>0</th>\n",
       "      <td>0</td>\n",
       "      <td>2</td>\n",
       "      <td>4</td>\n",
       "      <td>47557</td>\n",
       "      <td>2</td>\n",
       "    </tr>\n",
       "    <tr>\n",
       "      <th>1</th>\n",
       "      <td>0</td>\n",
       "      <td>2</td>\n",
       "      <td>2</td>\n",
       "      <td>28324</td>\n",
       "      <td>2</td>\n",
       "    </tr>\n",
       "    <tr>\n",
       "      <th>2</th>\n",
       "      <td>0</td>\n",
       "      <td>2</td>\n",
       "      <td>2</td>\n",
       "      <td>19037</td>\n",
       "      <td>2</td>\n",
       "    </tr>\n",
       "    <tr>\n",
       "      <th>3</th>\n",
       "      <td>0</td>\n",
       "      <td>2</td>\n",
       "      <td>5</td>\n",
       "      <td>42142</td>\n",
       "      <td>0</td>\n",
       "    </tr>\n",
       "    <tr>\n",
       "      <th>4</th>\n",
       "      <td>0</td>\n",
       "      <td>2</td>\n",
       "      <td>2</td>\n",
       "      <td>45350</td>\n",
       "      <td>2</td>\n",
       "    </tr>\n",
       "  </tbody>\n",
       "</table>\n",
       "</div>"
      ],
      "text/plain": [
       "   item_id  category  cup_size  user_id  fit\n",
       "0        0         2         4    47557    2\n",
       "1        0         2         2    28324    2\n",
       "2        0         2         2    19037    2\n",
       "3        0         2         5    42142    0\n",
       "4        0         2         2    45350    2"
      ]
     },
     "execution_count": 206,
     "metadata": {},
     "output_type": "execute_result"
    }
   ],
   "source": [
    "from sklearn.preprocessing import OrdinalEncoder\n",
    "\n",
    "categorical_columns = ['item_id', 'category', 'cup_size', 'user_id', 'fit']\n",
    "ordinal_enc = OrdinalEncoder()\n",
    "\n",
    "df_records_categorical = pd.DataFrame(np.array(ordinal_enc.fit_transform(df_records.loc[:, categorical_columns]), \n",
    "                                           dtype=np.int64), columns=categorical_columns)\n",
    "df_records_categorical.head()"
   ]
  },
  {
   "cell_type": "code",
   "execution_count": 207,
   "metadata": {},
   "outputs": [
    {
     "data": {
      "text/html": [
       "<div>\n",
       "<style scoped>\n",
       "    .dataframe tbody tr th:only-of-type {\n",
       "        vertical-align: middle;\n",
       "    }\n",
       "\n",
       "    .dataframe tbody tr th {\n",
       "        vertical-align: top;\n",
       "    }\n",
       "\n",
       "    .dataframe thead th {\n",
       "        text-align: right;\n",
       "    }\n",
       "</style>\n",
       "<table border=\"1\" class=\"dataframe\">\n",
       "  <thead>\n",
       "    <tr style=\"text-align: right;\">\n",
       "      <th></th>\n",
       "      <th>waist</th>\n",
       "      <th>size</th>\n",
       "      <th>quality</th>\n",
       "      <th>hips</th>\n",
       "      <th>bra_size</th>\n",
       "      <th>height</th>\n",
       "      <th>bust</th>\n",
       "      <th>shoe_size</th>\n",
       "      <th>item_id</th>\n",
       "      <th>category</th>\n",
       "      <th>cup_size</th>\n",
       "      <th>user_id</th>\n",
       "      <th>fit</th>\n",
       "    </tr>\n",
       "  </thead>\n",
       "  <tbody>\n",
       "    <tr>\n",
       "      <th>0</th>\n",
       "      <td>-0.514924</td>\n",
       "      <td>-0.684438</td>\n",
       "      <td>0.034406</td>\n",
       "      <td>-0.404745</td>\n",
       "      <td>-0.611557</td>\n",
       "      <td>0.306343</td>\n",
       "      <td>-0.456166</td>\n",
       "      <td>-0.109296</td>\n",
       "      <td>0</td>\n",
       "      <td>2</td>\n",
       "      <td>4</td>\n",
       "      <td>47557</td>\n",
       "      <td>2</td>\n",
       "    </tr>\n",
       "    <tr>\n",
       "      <th>1</th>\n",
       "      <td>-0.235410</td>\n",
       "      <td>0.040909</td>\n",
       "      <td>-0.983637</td>\n",
       "      <td>-1.777621</td>\n",
       "      <td>0.008607</td>\n",
       "      <td>-1.103900</td>\n",
       "      <td>-0.349617</td>\n",
       "      <td>-0.864510</td>\n",
       "      <td>0</td>\n",
       "      <td>2</td>\n",
       "      <td>2</td>\n",
       "      <td>28324</td>\n",
       "      <td>2</td>\n",
       "    </tr>\n",
       "    <tr>\n",
       "      <th>2</th>\n",
       "      <td>-0.375167</td>\n",
       "      <td>-0.684438</td>\n",
       "      <td>-2.001679</td>\n",
       "      <td>-0.576354</td>\n",
       "      <td>-1.231720</td>\n",
       "      <td>0.658904</td>\n",
       "      <td>-1.468378</td>\n",
       "      <td>0.645919</td>\n",
       "      <td>0</td>\n",
       "      <td>2</td>\n",
       "      <td>2</td>\n",
       "      <td>19037</td>\n",
       "      <td>2</td>\n",
       "    </tr>\n",
       "  </tbody>\n",
       "</table>\n",
       "</div>"
      ],
      "text/plain": [
       "      waist      size   quality      hips  bra_size    height      bust  \\\n",
       "0 -0.514924 -0.684438  0.034406 -0.404745 -0.611557  0.306343 -0.456166   \n",
       "1 -0.235410  0.040909 -0.983637 -1.777621  0.008607 -1.103900 -0.349617   \n",
       "2 -0.375167 -0.684438 -2.001679 -0.576354 -1.231720  0.658904 -1.468378   \n",
       "\n",
       "   shoe_size  item_id  category  cup_size  user_id  fit  \n",
       "0  -0.109296        0         2         4    47557    2  \n",
       "1  -0.864510        0         2         2    28324    2  \n",
       "2   0.645919        0         2         2    19037    2  "
      ]
     },
     "execution_count": 207,
     "metadata": {},
     "output_type": "execute_result"
    }
   ],
   "source": [
    "df = pd.concat([df_records_numeric, df_records_categorical], axis=1)\n",
    "df.head(3)"
   ]
  },
  {
   "cell_type": "code",
   "execution_count": 208,
   "metadata": {},
   "outputs": [
    {
     "name": "stdout",
     "output_type": "stream",
     "text": [
      "item_id : 1378\n",
      "category : 7\n",
      "cup_size : 12\n",
      "user_id : 47958\n",
      "fit : 3\n"
     ]
    }
   ],
   "source": [
    "# Number of embeddings required for each categorical variable\n",
    "for col in df_records_categorical.columns:\n",
    "    print(col, ':', len(df_records_categorical[col].unique()))"
   ]
  },
  {
   "cell_type": "markdown",
   "metadata": {},
   "source": [
    "### Saving the pre-processed data"
   ]
  },
  {
   "cell_type": "code",
   "execution_count": 209,
   "metadata": {},
   "outputs": [],
   "source": [
    "# Create random train-validation-test splits\n",
    "# 80-10-10 as in the paper\n",
    "from sklearn.model_selection import train_test_split\n",
    "df_train, df_val_test = train_test_split(df, random_state=10, test_size=0.2)\n",
    "df_val, df_test = train_test_split(df_val_test, random_state=10, test_size=0.5)"
   ]
  },
  {
   "cell_type": "code",
   "execution_count": 178,
   "metadata": {},
   "outputs": [],
   "source": [
    "save_file = '../data/modcloth_final_data_4_processed'\n",
    "\n",
    "df_train.to_json(save_file+'_train.jsonl', orient='records', lines=True)\n",
    "df_val.to_json(save_file+'_valid.jsonl', orient='records', lines=True)\n",
    "df_test.to_json(save_file+'_test.jsonl', orient='records', lines=True)"
   ]
  }
 ],
 "metadata": {
  "interpreter": {
   "hash": "31f2aee4e71d21fbe5cf8b01ff0e069b9275f58929596ceb00d14d90e3e16cd6"
  },
  "kernelspec": {
   "display_name": "Python 3.8.10 64-bit",
   "language": "python",
   "name": "python3"
  },
  "language_info": {
   "codemirror_mode": {
    "name": "ipython",
    "version": 3
   },
   "file_extension": ".py",
   "mimetype": "text/x-python",
   "name": "python",
   "nbconvert_exporter": "python",
   "pygments_lexer": "ipython3",
   "version": "3.8.10"
  }
 },
 "nbformat": 4,
 "nbformat_minor": 4
}
